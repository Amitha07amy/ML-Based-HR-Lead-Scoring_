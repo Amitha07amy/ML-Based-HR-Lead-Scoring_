{
  "nbformat": 4,
  "nbformat_minor": 0,
  "metadata": {
    "colab": {
      "provenance": []
    },
    "kernelspec": {
      "name": "python3",
      "display_name": "Python 3"
    },
    "language_info": {
      "name": "python"
    }
  },
  "cells": [
    {
      "cell_type": "code",
      "source": [
        "import pandas as pd\n",
        "import numpy as np\n",
        "from sklearn.model_selection import train_test_split\n",
        "from sklearn.ensemble import RandomForestClassifier\n",
        "from sklearn.preprocessing import LabelEncoder\n",
        "from sklearn.metrics import accuracy_score, precision_score, recall_score, f1_score, confusion_matrix\n",
        "\n",
        "train = pd.read_csv(\"/content/drive/MyDrive/dataset (1)/train.csv\")\n",
        "test = pd.read_csv(\"/content/drive/MyDrive/dataset (1)/test.csv\")\n",
        "\n",
        "drop_cols = [\"company_id\", \"company_name\", \"last_funding_date\"]\n",
        "train = train.drop(columns=drop_cols)\n",
        "test_ids = test[\"company_id\"]\n",
        "test = test.drop(columns=drop_cols)\n",
        "\n",
        "label_encoders = {}\n",
        "for col in [\"industry\", \"hiring_roles\"]:\n",
        "    le = LabelEncoder()\n",
        "    train[col] = le.fit_transform(train[col])\n",
        "    test[col] = le.transform(test[col])\n",
        "    label_encoders[col] = le\n",
        "\n",
        "X = train.drop(columns=[\"is_hot_lead\"])\n",
        "y = train[\"is_hot_lead\"]\n",
        "\n",
        "X_train, X_val, y_train, y_val = train_test_split(X, y, test_size=0.2, random_state=42)\n",
        "\n",
        "for df in [X_train, X_val, test]:\n",
        "    for col in df.columns:\n",
        "        max_finite_value = df[df[col] != np.inf][col].max()\n",
        "        df[col] = df[col].replace(np.inf, max_finite_value)\n",
        "\n",
        "model = RandomForestClassifier(n_estimators=100, random_state=42)\n",
        "model.fit(X_train, y_train)\n",
        "\n",
        "y_pred = model.predict(X_val)\n",
        "\n",
        "accuracy = accuracy_score(y_val, y_pred)\n",
        "precision = precision_score(y_val, y_pred)\n",
        "recall = recall_score(y_val, y_pred)\n",
        "f1 = f1_score(y_val, y_pred)\n",
        "conf_matrix = confusion_matrix(y_val, y_pred)\n",
        "\n",
        "print(f\"Accuracy: {accuracy:.4f}\")\n",
        "print(f\"Precision: {precision:.4f}\")\n",
        "print(f\"Recall: {recall:.4f}\")\n",
        "print(f\"F1-Score: {f1:.4f}\")\n",
        "print(\"Confusion Matrix:\")\n",
        "print(conf_matrix)\n",
        "\n",
        "if \"is_hot_lead\" in test.columns:\n",
        "    test = test.drop(columns=[\"is_hot_lead\"])\n",
        "\n",
        "test_predictions = model.predict(test)\n",
        "\n",
        "submission = pd.DataFrame({\"company_id\": test_ids, \"is_hot_lead\": test_predictions})\n",
        "submission.to_csv(\"submission.csv\", index=False)\n",
        "\n",
        "print(\"Submission file saved as submission.csv in runtime memory\")\n"
      ],
      "metadata": {
        "colab": {
          "base_uri": "https://localhost:8080/"
        },
        "id": "RbX6hFLrXBnU",
        "outputId": "3246f300-bae3-40d4-a5ba-3001f660a3e4"
      },
      "execution_count": 5,
      "outputs": [
        {
          "output_type": "stream",
          "name": "stdout",
          "text": [
            "Accuracy: 0.9543\n",
            "Precision: 0.8548\n",
            "Recall: 0.8479\n",
            "F1-Score: 0.8513\n",
            "Confusion Matrix:\n",
            "[[3293   89]\n",
            " [  94  524]]\n",
            "Submission file saved as submission.csv in runtime memory\n"
          ]
        }
      ]
    },
    {
      "cell_type": "code",
      "execution_count": 4,
      "metadata": {
        "colab": {
          "base_uri": "https://localhost:8080/"
        },
        "id": "Sgsxm_BuWvM1",
        "outputId": "94199eeb-aff1-49b8-fe66-6cd880a18719"
      },
      "outputs": [
        {
          "output_type": "stream",
          "name": "stderr",
          "text": [
            "/usr/local/lib/python3.11/dist-packages/xgboost/core.py:158: UserWarning: [09:50:26] WARNING: /workspace/src/learner.cc:740: \n",
            "Parameters: { \"use_label_encoder\" } are not used.\n",
            "\n",
            "  warnings.warn(smsg, UserWarning)\n"
          ]
        },
        {
          "output_type": "stream",
          "name": "stdout",
          "text": [
            "Accuracy: 0.9657\n",
            "Precision: 0.8683\n",
            "Recall: 0.9175\n",
            "F1-Score: 0.8922\n",
            "Confusion Matrix:\n",
            "[[3296   86]\n",
            " [  51  567]]\n",
            "Submission file saved as submission.csv in runtime memory\n"
          ]
        }
      ],
      "source": [
        "import pandas as pd\n",
        "import numpy as np\n",
        "import xgboost as xgb\n",
        "from sklearn.model_selection import train_test_split\n",
        "from sklearn.preprocessing import LabelEncoder\n",
        "from sklearn.metrics import accuracy_score, precision_score, recall_score, f1_score, confusion_matrix\n",
        "\n",
        "train = pd.read_csv(\"/content/drive/MyDrive/dataset (1)/train.csv\")\n",
        "test = pd.read_csv(\"/content/drive/MyDrive/dataset (1)/test.csv\")\n",
        "\n",
        "drop_cols = [\"company_id\", \"company_name\", \"last_funding_date\"]\n",
        "train = train.drop(columns=drop_cols)\n",
        "test_ids = test[\"company_id\"]\n",
        "test = test.drop(columns=drop_cols)\n",
        "\n",
        "label_encoders = {}\n",
        "for col in [\"industry\", \"hiring_roles\"]:\n",
        "    le = LabelEncoder()\n",
        "    train[col] = le.fit_transform(train[col])\n",
        "    test[col] = le.transform(test[col])\n",
        "    label_encoders[col] = le\n",
        "\n",
        "X = train.drop(columns=[\"is_hot_lead\"])\n",
        "y = train[\"is_hot_lead\"]\n",
        "\n",
        "X_train, X_val, y_train, y_val = train_test_split(X, y, test_size=0.2, random_state=42)\n",
        "\n",
        "for df in [X_train, X_val, test]:\n",
        "    for col in df.columns:\n",
        "        max_finite_value = df[df[col] != np.inf][col].max()\n",
        "        df[col] = df[col].replace(np.inf, max_finite_value)\n",
        "\n",
        "model = xgb.XGBClassifier(n_estimators=100, learning_rate=0.1, max_depth=6, random_state=42, use_label_encoder=False, eval_metric=\"logloss\")\n",
        "model.fit(X_train, y_train)\n",
        "\n",
        "y_pred = model.predict(X_val)\n",
        "\n",
        "accuracy = accuracy_score(y_val, y_pred)\n",
        "precision = precision_score(y_val, y_pred)\n",
        "recall = recall_score(y_val, y_pred)\n",
        "f1 = f1_score(y_val, y_pred)\n",
        "conf_matrix = confusion_matrix(y_val, y_pred)\n",
        "\n",
        "print(f\"Accuracy: {accuracy:.4f}\")\n",
        "print(f\"Precision: {precision:.4f}\")\n",
        "print(f\"Recall: {recall:.4f}\")\n",
        "print(f\"F1-Score: {f1:.4f}\")\n",
        "print(\"Confusion Matrix:\")\n",
        "print(conf_matrix)\n",
        "\n",
        "if \"is_hot_lead\" in test.columns:\n",
        "    test = test.drop(columns=[\"is_hot_lead\"])\n",
        "\n",
        "test_predictions = model.predict(test)\n",
        "\n",
        "submission = pd.DataFrame({\"company_id\": test_ids, \"is_hot_lead\": test_predictions})\n",
        "submission.to_csv(\"submission.csv\", index=False)\n",
        "\n",
        "print(\"Submission file saved as submission.csv in runtime memory\")\n"
      ]
    }
  ]
}